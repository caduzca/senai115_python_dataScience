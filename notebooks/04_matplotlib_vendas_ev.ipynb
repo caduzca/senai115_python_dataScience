{
 "cells": [
  {
   "cell_type": "markdown",
   "id": "c92229ec-a912-4350-9f13-5ba8fc76a792",
   "metadata": {},
   "source": [
    "# Desafio\n",
    "\n",
    "### Exercício: Explorando o Conjunto de Dados de Vendas de carros elétricos\n",
    "\n",
    "**Objetivo:** Utilizar a biblioteca Pandas e Matplotlib para extrair e analisar informações dos conjuntos de dados de vendas de carros elétricos.\n",
    "link: https://www.kaggle.com/datasets/patricklford/global-ev-sales-2010-2024\n",
    "\n",
    "Desafios/etapas:\n",
    "1. importar a biblioteca pandas no Jupyter\n",
    "2. ler o arquivo .csv\n",
    "3. apresentar informações básicas do dataset\n",
    "4. limpar as linhas que possuirem dados vazios\n",
    "5. plotar um gráfico do tipo \"pie\" verificando a contagem de cada tipo de veículos (coluna mode).\n",
    "6. plotar um gráfico do tipo \"bar\" verificando as 10 primeiras regiões em quantidade de veículos."
   ]
  },
  {
   "cell_type": "code",
   "execution_count": 39,
   "id": "2b80b32f-eb6c-4de6-98ac-d5018b64bb6c",
   "metadata": {},
   "outputs": [],
   "source": [
    "#importar as bibliotecas\n",
    "import pandas as pd #biblioteca para trabalhar com o arquivo .csv\n",
    "import matplotlib.pyplot as plt #biblioteca para trabalhar com gráficos"
   ]
  },
  {
   "cell_type": "code",
   "execution_count": 41,
   "id": "f2649c9e-cf30-4bac-a6f2-034274842cbe",
   "metadata": {},
   "outputs": [],
   "source": [
    "#Ler o arquivo .csv\n",
    "df = pd.read_csv('../dataset/IEA Global EV Data 2024.csv')"
   ]
  },
  {
   "cell_type": "code",
   "execution_count": 43,
   "id": "53ea5434-7a11-4186-be52-5046f4e6d00c",
   "metadata": {},
   "outputs": [
    {
     "data": {
      "text/html": [
       "<div>\n",
       "<style scoped>\n",
       "    .dataframe tbody tr th:only-of-type {\n",
       "        vertical-align: middle;\n",
       "    }\n",
       "\n",
       "    .dataframe tbody tr th {\n",
       "        vertical-align: top;\n",
       "    }\n",
       "\n",
       "    .dataframe thead th {\n",
       "        text-align: right;\n",
       "    }\n",
       "</style>\n",
       "<table border=\"1\" class=\"dataframe\">\n",
       "  <thead>\n",
       "    <tr style=\"text-align: right;\">\n",
       "      <th></th>\n",
       "      <th>region</th>\n",
       "      <th>category</th>\n",
       "      <th>parameter</th>\n",
       "      <th>mode</th>\n",
       "      <th>powertrain</th>\n",
       "      <th>year</th>\n",
       "      <th>unit</th>\n",
       "      <th>value</th>\n",
       "    </tr>\n",
       "  </thead>\n",
       "  <tbody>\n",
       "    <tr>\n",
       "      <th>0</th>\n",
       "      <td>Australia</td>\n",
       "      <td>Historical</td>\n",
       "      <td>EV stock share</td>\n",
       "      <td>Cars</td>\n",
       "      <td>EV</td>\n",
       "      <td>2011</td>\n",
       "      <td>percent</td>\n",
       "      <td>0.00039</td>\n",
       "    </tr>\n",
       "    <tr>\n",
       "      <th>1</th>\n",
       "      <td>Australia</td>\n",
       "      <td>Historical</td>\n",
       "      <td>EV sales share</td>\n",
       "      <td>Cars</td>\n",
       "      <td>EV</td>\n",
       "      <td>2011</td>\n",
       "      <td>percent</td>\n",
       "      <td>0.00650</td>\n",
       "    </tr>\n",
       "    <tr>\n",
       "      <th>2</th>\n",
       "      <td>Australia</td>\n",
       "      <td>Historical</td>\n",
       "      <td>EV sales</td>\n",
       "      <td>Cars</td>\n",
       "      <td>BEV</td>\n",
       "      <td>2011</td>\n",
       "      <td>Vehicles</td>\n",
       "      <td>49.00000</td>\n",
       "    </tr>\n",
       "    <tr>\n",
       "      <th>3</th>\n",
       "      <td>Australia</td>\n",
       "      <td>Historical</td>\n",
       "      <td>EV stock</td>\n",
       "      <td>Cars</td>\n",
       "      <td>BEV</td>\n",
       "      <td>2011</td>\n",
       "      <td>Vehicles</td>\n",
       "      <td>49.00000</td>\n",
       "    </tr>\n",
       "    <tr>\n",
       "      <th>4</th>\n",
       "      <td>Australia</td>\n",
       "      <td>Historical</td>\n",
       "      <td>EV stock</td>\n",
       "      <td>Cars</td>\n",
       "      <td>BEV</td>\n",
       "      <td>2012</td>\n",
       "      <td>Vehicles</td>\n",
       "      <td>220.00000</td>\n",
       "    </tr>\n",
       "  </tbody>\n",
       "</table>\n",
       "</div>"
      ],
      "text/plain": [
       "      region    category       parameter  mode powertrain  year      unit  \\\n",
       "0  Australia  Historical  EV stock share  Cars         EV  2011   percent   \n",
       "1  Australia  Historical  EV sales share  Cars         EV  2011   percent   \n",
       "2  Australia  Historical        EV sales  Cars        BEV  2011  Vehicles   \n",
       "3  Australia  Historical        EV stock  Cars        BEV  2011  Vehicles   \n",
       "4  Australia  Historical        EV stock  Cars        BEV  2012  Vehicles   \n",
       "\n",
       "       value  \n",
       "0    0.00039  \n",
       "1    0.00650  \n",
       "2   49.00000  \n",
       "3   49.00000  \n",
       "4  220.00000  "
      ]
     },
     "execution_count": 43,
     "metadata": {},
     "output_type": "execute_result"
    }
   ],
   "source": [
    "#Apresentar as 5 primeiras linhas do dataFrame\n",
    "df.head()"
   ]
  },
  {
   "cell_type": "code",
   "execution_count": 45,
   "id": "068a2368-1a68-4c85-a3ff-b3666ee7bc59",
   "metadata": {},
   "outputs": [
    {
     "name": "stdout",
     "output_type": "stream",
     "text": [
      "<class 'pandas.core.frame.DataFrame'>\n",
      "RangeIndex: 12654 entries, 0 to 12653\n",
      "Data columns (total 8 columns):\n",
      " #   Column      Non-Null Count  Dtype  \n",
      "---  ------      --------------  -----  \n",
      " 0   region      12654 non-null  object \n",
      " 1   category    12654 non-null  object \n",
      " 2   parameter   12654 non-null  object \n",
      " 3   mode        12654 non-null  object \n",
      " 4   powertrain  12654 non-null  object \n",
      " 5   year        12654 non-null  int64  \n",
      " 6   unit        12654 non-null  object \n",
      " 7   value       12654 non-null  float64\n",
      "dtypes: float64(1), int64(1), object(6)\n",
      "memory usage: 791.0+ KB\n"
     ]
    },
    {
     "data": {
      "text/html": [
       "<div>\n",
       "<style scoped>\n",
       "    .dataframe tbody tr th:only-of-type {\n",
       "        vertical-align: middle;\n",
       "    }\n",
       "\n",
       "    .dataframe tbody tr th {\n",
       "        vertical-align: top;\n",
       "    }\n",
       "\n",
       "    .dataframe thead th {\n",
       "        text-align: right;\n",
       "    }\n",
       "</style>\n",
       "<table border=\"1\" class=\"dataframe\">\n",
       "  <thead>\n",
       "    <tr style=\"text-align: right;\">\n",
       "      <th></th>\n",
       "      <th>year</th>\n",
       "      <th>value</th>\n",
       "    </tr>\n",
       "  </thead>\n",
       "  <tbody>\n",
       "    <tr>\n",
       "      <th>count</th>\n",
       "      <td>12654.000000</td>\n",
       "      <td>1.265400e+04</td>\n",
       "    </tr>\n",
       "    <tr>\n",
       "      <th>mean</th>\n",
       "      <td>2019.822112</td>\n",
       "      <td>4.273742e+05</td>\n",
       "    </tr>\n",
       "    <tr>\n",
       "      <th>std</th>\n",
       "      <td>5.476494</td>\n",
       "      <td>6.860498e+06</td>\n",
       "    </tr>\n",
       "    <tr>\n",
       "      <th>min</th>\n",
       "      <td>2010.000000</td>\n",
       "      <td>1.200000e-06</td>\n",
       "    </tr>\n",
       "    <tr>\n",
       "      <th>25%</th>\n",
       "      <td>2016.000000</td>\n",
       "      <td>2.000000e+00</td>\n",
       "    </tr>\n",
       "    <tr>\n",
       "      <th>50%</th>\n",
       "      <td>2020.000000</td>\n",
       "      <td>1.300000e+02</td>\n",
       "    </tr>\n",
       "    <tr>\n",
       "      <th>75%</th>\n",
       "      <td>2022.000000</td>\n",
       "      <td>5.500000e+03</td>\n",
       "    </tr>\n",
       "    <tr>\n",
       "      <th>max</th>\n",
       "      <td>2035.000000</td>\n",
       "      <td>4.400000e+08</td>\n",
       "    </tr>\n",
       "  </tbody>\n",
       "</table>\n",
       "</div>"
      ],
      "text/plain": [
       "               year         value\n",
       "count  12654.000000  1.265400e+04\n",
       "mean    2019.822112  4.273742e+05\n",
       "std        5.476494  6.860498e+06\n",
       "min     2010.000000  1.200000e-06\n",
       "25%     2016.000000  2.000000e+00\n",
       "50%     2020.000000  1.300000e+02\n",
       "75%     2022.000000  5.500000e+03\n",
       "max     2035.000000  4.400000e+08"
      ]
     },
     "execution_count": 45,
     "metadata": {},
     "output_type": "execute_result"
    }
   ],
   "source": [
    "#Informaçõe gerais\n",
    "df.info()\n",
    "df.describe()"
   ]
  },
  {
   "cell_type": "code",
   "execution_count": 47,
   "id": "ab5ef8bb-a275-420c-beef-99e473e42493",
   "metadata": {},
   "outputs": [
    {
     "data": {
      "text/plain": [
       "0"
      ]
     },
     "execution_count": 47,
     "metadata": {},
     "output_type": "execute_result"
    }
   ],
   "source": [
    "#verificar valores duplicados\n",
    "df.duplicated().sum() #caso aparecer 0 significa que não tem linhas iguais"
   ]
  },
  {
   "cell_type": "code",
   "execution_count": 49,
   "id": "4ce37cdf-1f18-487e-8e96-04620c6cad5c",
   "metadata": {},
   "outputs": [
    {
     "data": {
      "text/plain": [
       "region        0\n",
       "category      0\n",
       "parameter     0\n",
       "mode          0\n",
       "powertrain    0\n",
       "year          0\n",
       "unit          0\n",
       "value         0\n",
       "dtype: int64"
      ]
     },
     "execution_count": 49,
     "metadata": {},
     "output_type": "execute_result"
    }
   ],
   "source": [
    "#verificar valores vazios por coluna\n",
    "df.isnull().sum()"
   ]
  },
  {
   "cell_type": "code",
   "execution_count": 51,
   "id": "194f5946-c69f-4b4c-8750-b6734adfa4ae",
   "metadata": {},
   "outputs": [],
   "source": [
    "#Pie\n",
    "df.head()\n",
    "df['unit'].unique() #tomar cuidado pois 'mode' é uma palavra reservada\n",
    "#A coluna unit possui valores de unidades diferentes portanto será necessários\n",
    "#definir a unidada para ser analisada\n",
    "\n",
    "#A unidade será 'vehicles' portanto é necessário criar um novo dataframe\n",
    "#com apenas essas linhas\n",
    "df_vehicles = df.loc[df['unit'] == 'Vehicles']"
   ]
  },
  {
   "cell_type": "code",
   "execution_count": 53,
   "id": "ea561ce8-f9a4-4a22-9aad-ac533d03b2ca",
   "metadata": {},
   "outputs": [
    {
     "data": {
      "text/plain": [
       "array(['Vehicles'], dtype=object)"
      ]
     },
     "execution_count": 53,
     "metadata": {},
     "output_type": "execute_result"
    }
   ],
   "source": [
    "df_vehicles['unit'].unique() #verifico os tipos únicos da coluna 'unit'"
   ]
  },
  {
   "cell_type": "code",
   "execution_count": 55,
   "id": "d1a4f179-0756-454d-99d4-b910c312d599",
   "metadata": {},
   "outputs": [
    {
     "data": {
      "text/plain": [
       "([<matplotlib.patches.Wedge at 0x2444bf87a70>,\n",
       "  <matplotlib.patches.Wedge at 0x2444b5ad970>,\n",
       "  <matplotlib.patches.Wedge at 0x2444bf85580>,\n",
       "  <matplotlib.patches.Wedge at 0x2444bf85eb0>],\n",
       " [Text(0.2236940701869681, 1.0770148387850504, 'Cars'),\n",
       "  Text(-1.059475175108288, -0.29582486935560853, 'Buses'),\n",
       "  Text(0.05351735479744666, -1.0986973617586802, 'Vans'),\n",
       "  Text(1.0005952318392295, -0.45695643339447445, 'Trucks')],\n",
       " [Text(0.12201494737470986, 0.5874626393373001, '43.5%'),\n",
       "  Text(-0.5778955500590661, -0.1613590196485137, '21.7%'),\n",
       "  Text(0.0291912844349709, -0.5992894700501892, '21.2%'),\n",
       "  Text(0.5457792173668524, -0.2492489636697133, '13.6%')])"
      ]
     },
     "execution_count": 55,
     "metadata": {},
     "output_type": "execute_result"
    },
    {
     "data": {
      "image/png": "[encoded data removed]",
      "text/plain": [
       "<Figure size 640x480 with 1 Axes>"
      ]
     },
     "metadata": {},
     "output_type": "display_data"
    }
   ],
   "source": [
    "#gráfico pie(torta)\n",
    "etiquetas = df_vehicles['mode'].unique()  #verifico os tipos únicos da coluna 'mode'\n",
    "valores_etiquetas = df_vehicles['mode'].value_counts()\n",
    "plt.pie(valores_etiquetas, labels=etiquetas, autopct='%1.1f%%')"
   ]
  },
  {
   "cell_type": "code",
   "execution_count": 57,
   "id": "d2edbd63-36a9-4ca7-bb7f-0e64518637a6",
   "metadata": {},
   "outputs": [
    {
     "data": {
      "text/html": [
       "<div>\n",
       "<style scoped>\n",
       "    .dataframe tbody tr th:only-of-type {\n",
       "        vertical-align: middle;\n",
       "    }\n",
       "\n",
       "    .dataframe tbody tr th {\n",
       "        vertical-align: top;\n",
       "    }\n",
       "\n",
       "    .dataframe thead th {\n",
       "        text-align: right;\n",
       "    }\n",
       "</style>\n",
       "<table border=\"1\" class=\"dataframe\">\n",
       "  <thead>\n",
       "    <tr style=\"text-align: right;\">\n",
       "      <th></th>\n",
       "      <th>region</th>\n",
       "      <th>category</th>\n",
       "      <th>parameter</th>\n",
       "      <th>mode</th>\n",
       "      <th>powertrain</th>\n",
       "      <th>year</th>\n",
       "      <th>unit</th>\n",
       "      <th>value</th>\n",
       "    </tr>\n",
       "  </thead>\n",
       "  <tbody>\n",
       "    <tr>\n",
       "      <th>2</th>\n",
       "      <td>Australia</td>\n",
       "      <td>Historical</td>\n",
       "      <td>EV sales</td>\n",
       "      <td>Cars</td>\n",
       "      <td>BEV</td>\n",
       "      <td>2011</td>\n",
       "      <td>Vehicles</td>\n",
       "      <td>49.0</td>\n",
       "    </tr>\n",
       "    <tr>\n",
       "      <th>3</th>\n",
       "      <td>Australia</td>\n",
       "      <td>Historical</td>\n",
       "      <td>EV stock</td>\n",
       "      <td>Cars</td>\n",
       "      <td>BEV</td>\n",
       "      <td>2011</td>\n",
       "      <td>Vehicles</td>\n",
       "      <td>49.0</td>\n",
       "    </tr>\n",
       "    <tr>\n",
       "      <th>4</th>\n",
       "      <td>Australia</td>\n",
       "      <td>Historical</td>\n",
       "      <td>EV stock</td>\n",
       "      <td>Cars</td>\n",
       "      <td>BEV</td>\n",
       "      <td>2012</td>\n",
       "      <td>Vehicles</td>\n",
       "      <td>220.0</td>\n",
       "    </tr>\n",
       "    <tr>\n",
       "      <th>5</th>\n",
       "      <td>Australia</td>\n",
       "      <td>Historical</td>\n",
       "      <td>EV sales</td>\n",
       "      <td>Cars</td>\n",
       "      <td>BEV</td>\n",
       "      <td>2012</td>\n",
       "      <td>Vehicles</td>\n",
       "      <td>170.0</td>\n",
       "    </tr>\n",
       "    <tr>\n",
       "      <th>8</th>\n",
       "      <td>Australia</td>\n",
       "      <td>Historical</td>\n",
       "      <td>EV stock</td>\n",
       "      <td>Cars</td>\n",
       "      <td>PHEV</td>\n",
       "      <td>2012</td>\n",
       "      <td>Vehicles</td>\n",
       "      <td>80.0</td>\n",
       "    </tr>\n",
       "  </tbody>\n",
       "</table>\n",
       "</div>"
      ],
      "text/plain": [
       "      region    category parameter  mode powertrain  year      unit  value\n",
       "2  Australia  Historical  EV sales  Cars        BEV  2011  Vehicles   49.0\n",
       "3  Australia  Historical  EV stock  Cars        BEV  2011  Vehicles   49.0\n",
       "4  Australia  Historical  EV stock  Cars        BEV  2012  Vehicles  220.0\n",
       "5  Australia  Historical  EV sales  Cars        BEV  2012  Vehicles  170.0\n",
       "8  Australia  Historical  EV stock  Cars       PHEV  2012  Vehicles   80.0"
      ]
     },
     "execution_count": 57,
     "metadata": {},
     "output_type": "execute_result"
    }
   ],
   "source": [
    "df_vehicles.head()"
   ]
  },
  {
   "cell_type": "code",
   "execution_count": 59,
   "id": "5c2a1e74-6079-48ad-8017-001a4bc3d508",
   "metadata": {},
   "outputs": [
    {
     "data": {
      "text/plain": [
       "Index(['Australia', 'Austria', 'Belgium', 'Brazil', 'Bulgaria', 'Canada',\n",
       "       'Chile', 'China', 'Colombia', 'Costa Rica', 'Croatia', 'Cyprus',\n",
       "       'Czech Republic', 'Denmark', 'EU27', 'Estonia', 'Europe', 'Finland',\n",
       "       'France', 'Germany', 'Greece', 'Hungary', 'Iceland', 'India', 'Ireland',\n",
       "       'Israel', 'Italy', 'Japan', 'Korea', 'Latvia', 'Lithuania',\n",
       "       'Luxembourg', 'Mexico', 'Netherlands', 'New Zealand', 'Norway',\n",
       "       'Poland', 'Portugal', 'Rest of the world', 'Romania', 'Seychelles',\n",
       "       'Slovakia', 'Slovenia', 'South Africa', 'Spain', 'Sweden',\n",
       "       'Switzerland', 'Turkiye', 'USA', 'United Arab Emirates',\n",
       "       'United Kingdom', 'World'],\n",
       "      dtype='object', name='region')"
      ]
     },
     "execution_count": 59,
     "metadata": {},
     "output_type": "execute_result"
    }
   ],
   "source": [
    "#Quando se agrupa o dataframe por região e somando a coluna 'value' existe uma transformação do dataframe\n",
    "#para dicionário.\n",
    "dictionary_vehicles = df_vehicles.groupby('region')['value'].sum()\n",
    "dictionary_vehicles.keys()"
   ]
  },
  {
   "cell_type": "code",
   "execution_count": 61,
   "id": "89c9899f-9184-489b-b78d-6115c1fa314f",
   "metadata": {},
   "outputs": [
    {
     "data": {
      "text/html": [
       "<div>\n",
       "<style scoped>\n",
       "    .dataframe tbody tr th:only-of-type {\n",
       "        vertical-align: middle;\n",
       "    }\n",
       "\n",
       "    .dataframe tbody tr th {\n",
       "        vertical-align: top;\n",
       "    }\n",
       "\n",
       "    .dataframe thead th {\n",
       "        text-align: right;\n",
       "    }\n",
       "</style>\n",
       "<table border=\"1\" class=\"dataframe\">\n",
       "  <thead>\n",
       "    <tr style=\"text-align: right;\">\n",
       "      <th></th>\n",
       "      <th>Regiões</th>\n",
       "      <th>Valores</th>\n",
       "    </tr>\n",
       "  </thead>\n",
       "  <tbody>\n",
       "    <tr>\n",
       "      <th>7</th>\n",
       "      <td>China</td>\n",
       "      <td>1.148052e+09</td>\n",
       "    </tr>\n",
       "    <tr>\n",
       "      <th>16</th>\n",
       "      <td>Europe</td>\n",
       "      <td>5.937754e+08</td>\n",
       "    </tr>\n",
       "    <tr>\n",
       "      <th>48</th>\n",
       "      <td>USA</td>\n",
       "      <td>4.112801e+08</td>\n",
       "    </tr>\n",
       "    <tr>\n",
       "      <th>23</th>\n",
       "      <td>India</td>\n",
       "      <td>6.341878e+07</td>\n",
       "    </tr>\n",
       "    <tr>\n",
       "      <th>14</th>\n",
       "      <td>EU27</td>\n",
       "      <td>3.324256e+07</td>\n",
       "    </tr>\n",
       "    <tr>\n",
       "      <th>19</th>\n",
       "      <td>Germany</td>\n",
       "      <td>1.020111e+07</td>\n",
       "    </tr>\n",
       "    <tr>\n",
       "      <th>18</th>\n",
       "      <td>France</td>\n",
       "      <td>6.787772e+06</td>\n",
       "    </tr>\n",
       "    <tr>\n",
       "      <th>50</th>\n",
       "      <td>United Kingdom</td>\n",
       "      <td>6.283637e+06</td>\n",
       "    </tr>\n",
       "    <tr>\n",
       "      <th>35</th>\n",
       "      <td>Norway</td>\n",
       "      <td>4.793634e+06</td>\n",
       "    </tr>\n",
       "    <tr>\n",
       "      <th>27</th>\n",
       "      <td>Japan</td>\n",
       "      <td>3.603756e+06</td>\n",
       "    </tr>\n",
       "  </tbody>\n",
       "</table>\n",
       "</div>"
      ],
      "text/plain": [
       "           Regiões       Valores\n",
       "7            China  1.148052e+09\n",
       "16          Europe  5.937754e+08\n",
       "48             USA  4.112801e+08\n",
       "23           India  6.341878e+07\n",
       "14            EU27  3.324256e+07\n",
       "19         Germany  1.020111e+07\n",
       "18          France  6.787772e+06\n",
       "50  United Kingdom  6.283637e+06\n",
       "35          Norway  4.793634e+06\n",
       "27           Japan  3.603756e+06"
      ]
     },
     "execution_count": 61,
     "metadata": {},
     "output_type": "execute_result"
    }
   ],
   "source": [
    "#O tipo de dado dicionário não possui os métodos do dataframe portanto é necessário converte-lo\n",
    "df_vehicles_region = pd.DataFrame(dictionary_vehicles.items(), columns=['Regiões', 'Valores'] )\n",
    "df_vehicles_region.loc[(df_vehicles_region['Regiões'] != 'World') &\n",
    "                (df_vehicles_region['Regiões'] != 'Rest of the world')] \\\n",
    "                .sort_values(by=['Valores'], ascending = False).head(10)"
   ]
  },
  {
   "cell_type": "code",
   "execution_count": 76,
   "id": "689f1e2e-4a2d-4be8-bb0f-03c8bc13cf27",
   "metadata": {},
   "outputs": [],
   "source": [
    "df_vehicles_region = pd.DataFrame(dictionary_vehicles.items(), columns=['Regiões', 'Valores'] )\n",
    "df_top_ten = df_vehicles_region.loc[(df_vehicles_region['Regiões'] != 'World') &\n",
    "                (df_vehicles_region['Regiões'] != 'Rest of the world')] \\\n",
    "                .sort_values(by=['Valores'], ascending = False).head(10)"
   ]
  },
  {
   "cell_type": "code",
   "execution_count": 92,
   "id": "813da559-d7b4-4935-ad9f-9de4de6be100",
   "metadata": {},
   "outputs": [
    {
     "data": {
      "text/plain": [
       "<BarContainer object of 10 artists>"
      ]
     },
     "execution_count": 92,
     "metadata": {},
     "output_type": "execute_result"
    },
    {
     "data": {
      "image/png": "[encoded data removed]",
      "text/plain": [
       "<Figure size 1200x400 with 1 Axes>"
      ]
     },
     "metadata": {},
     "output_type": "display_data"
    }
   ],
   "source": [
    "df_top_ten\n",
    "\n",
    "x = df_top_ten['Regiões']\n",
    "y = df_top_ten['Valores']\n",
    "plt.figure(figsize = (12,4))\n",
    "plt.title('Valores por Região')\n",
    "plt.xlabel('Regiões')\n",
    "plt.ylabel('Bilhões de carros')\n",
    "plt.bar(x, y)"
   ]
  },
  {
   "cell_type": "code",
   "execution_count": 86,
   "id": "a2d5c326-fe50-4eb6-9124-377fc95d4879",
   "metadata": {},
   "outputs": [
    {
     "data": {
      "text/plain": [
       "2    2011\n",
       "3    2011\n",
       "4    2012\n",
       "5    2012\n",
       "8    2012\n",
       "Name: year, dtype: int64"
      ]
     },
     "execution_count": 86,
     "metadata": {},
     "output_type": "execute_result"
    }
   ],
   "source": [
    "df_vehicles['year'].head()"
   ]
  },
  {
   "cell_type": "code",
   "execution_count": null,
   "id": "ff4e869e-4ce2-44e5-a1c0-e3791dec8d72",
   "metadata": {},
   "outputs": [],
   "source": []
  }
 ],
 "metadata": {
  "kernelspec": {
   "display_name": "Python 3 (ipykernel)",
   "language": "python",
   "name": "python3"
  },
  "language_info": {
   "codemirror_mode": {
    "name": "ipython",
    "version": 3
   },
   "file_extension": ".py",
   "mimetype": "text/x-python",
   "name": "python",
   "nbconvert_exporter": "python",
   "pygments_lexer": "ipython3",
   "version": "3.12.4"
  }
 },
 "nbformat": 4,
 "nbformat_minor": 5
}

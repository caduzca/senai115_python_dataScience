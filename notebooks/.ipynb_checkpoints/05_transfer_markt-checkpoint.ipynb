{
 "cells": [
  {
   "cell_type": "code",
   "execution_count": 29,
   "id": "b21f4fd1-7b56-4266-989d-81572a211fbb",
   "metadata": {},
   "outputs": [],
   "source": [
    "from selenium import webdriver\n",
    "from selenium.webdriver.common.by import By"
   ]
  },
  {
   "cell_type": "code",
   "execution_count": 72,
   "id": "73e8a8c2-ae92-4f90-8c1a-e7963d1e0d79",
   "metadata": {},
   "outputs": [
    {
     "name": "stdout",
     "output_type": "stream",
     "text": [
      "['3', 'Bayern', 'Bundesliga', 'Allianz Arena', '75.024', '2', 'Primeira', 'Divisão', '1', '75.024', '1', '75.024']\n"
     ]
    }
   ],
   "source": [
    "driver = webdriver.Chrome()\n",
    "driver.implicitly_wait(2)\n",
    "\n",
    "driver.get('https://www.transfermarkt.com.br/verein-statistik/zuschauerrangliste/statistik/stat/plus/1?selectedOptionKey=0&wettbewerb=liga')\n",
    "\n",
    "#dados_tabela = driver.find_elements(By.TAG_NAME, 'td')\n",
    "linhas_impares = driver.find_elements(By.CLASS_NAME, 'odd')\n",
    "\n",
    "#print(dados_tabela[0].text)\n",
    "#display(linhas_impares[0].text.split('\\n'))\n",
    "dados = linhas_impares[1].text.split('\\n')\n",
    "dados += dados[4].split()\n",
    "dados.pop(4)\n",
    "print(dados)"
   ]
  },
  {
   "cell_type": "code",
   "execution_count": null,
   "id": "a189239e-c206-4a57-be8f-79ac8416c0a7",
   "metadata": {},
   "outputs": [],
   "source": []
  }
 ],
 "metadata": {
  "kernelspec": {
   "display_name": "Python 3 (ipykernel)",
   "language": "python",
   "name": "python3"
  },
  "language_info": {
   "codemirror_mode": {
    "name": "ipython",
    "version": 3
   },
   "file_extension": ".py",
   "mimetype": "text/x-python",
   "name": "python",
   "nbconvert_exporter": "python",
   "pygments_lexer": "ipython3",
   "version": "3.12.4"
  }
 },
 "nbformat": 4,
 "nbformat_minor": 5
}
